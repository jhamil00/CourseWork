{
 "cells": [
  {
   "cell_type": "code",
   "execution_count": 1,
   "metadata": {
    "collapsed": false
   },
   "outputs": [
    {
     "name": "stdout",
     "output_type": "stream",
     "text": [
      "Hello World!\n"
     ]
    }
   ],
   "source": [
    "print 'Hello World!'"
   ]
  },
  {
   "cell_type": "markdown",
   "metadata": {},
   "source": [
    "# Getting started with Python\n",
    "\n",
    "## We have done\n",
    "* Installed Python\n",
    "* Started IPython Notebook\n",
    "\n",
    "## Create some variables in Python"
   ]
  },
  {
   "cell_type": "code",
   "execution_count": 2,
   "metadata": {
    "collapsed": true
   },
   "outputs": [],
   "source": [
    "i = 4 #int"
   ]
  },
  {
   "cell_type": "code",
   "execution_count": 3,
   "metadata": {
    "collapsed": false
   },
   "outputs": [
    {
     "data": {
      "text/plain": [
       "int"
      ]
     },
     "execution_count": 3,
     "metadata": {},
     "output_type": "execute_result"
    }
   ],
   "source": [
    "type(i)"
   ]
  },
  {
   "cell_type": "code",
   "execution_count": 4,
   "metadata": {
    "collapsed": true
   },
   "outputs": [],
   "source": [
    "f = 4.1"
   ]
  },
  {
   "cell_type": "code",
   "execution_count": 5,
   "metadata": {
    "collapsed": false
   },
   "outputs": [
    {
     "data": {
      "text/plain": [
       "float"
      ]
     },
     "execution_count": 5,
     "metadata": {},
     "output_type": "execute_result"
    }
   ],
   "source": [
    "type(f)"
   ]
  },
  {
   "cell_type": "code",
   "execution_count": 7,
   "metadata": {
    "collapsed": false
   },
   "outputs": [],
   "source": [
    "b = True"
   ]
  },
  {
   "cell_type": "code",
   "execution_count": 8,
   "metadata": {
    "collapsed": true
   },
   "outputs": [],
   "source": [
    "s = \"This is a string!\""
   ]
  },
  {
   "cell_type": "code",
   "execution_count": 9,
   "metadata": {
    "collapsed": false
   },
   "outputs": [
    {
     "name": "stdout",
     "output_type": "stream",
     "text": [
      "This is a string!\n"
     ]
    }
   ],
   "source": [
    "print(s)"
   ]
  },
  {
   "cell_type": "markdown",
   "metadata": {},
   "source": [
    "## Advanced Python types"
   ]
  },
  {
   "cell_type": "code",
   "execution_count": 10,
   "metadata": {
    "collapsed": true
   },
   "outputs": [],
   "source": [
    "l = [3, 1, 2]"
   ]
  },
  {
   "cell_type": "code",
   "execution_count": 11,
   "metadata": {
    "collapsed": false
   },
   "outputs": [
    {
     "name": "stdout",
     "output_type": "stream",
     "text": [
      "[3, 1, 2]\n"
     ]
    }
   ],
   "source": [
    "print(l)"
   ]
  },
  {
   "cell_type": "code",
   "execution_count": 12,
   "metadata": {
    "collapsed": true
   },
   "outputs": [],
   "source": [
    "d = {\"Foo\" : 1, \"Bar\": 2.3, \"s\": \"My first dictionary\"}"
   ]
  },
  {
   "cell_type": "code",
   "execution_count": 13,
   "metadata": {
    "collapsed": false
   },
   "outputs": [
    {
     "name": "stdout",
     "output_type": "stream",
     "text": [
      "{'s': 'My first dictionary', 'Foo': 1, 'Bar': 2.3}\n"
     ]
    }
   ],
   "source": [
    "print(d)"
   ]
  },
  {
   "cell_type": "code",
   "execution_count": 14,
   "metadata": {
    "collapsed": false
   },
   "outputs": [
    {
     "name": "stdout",
     "output_type": "stream",
     "text": [
      "1\n"
     ]
    }
   ],
   "source": [
    "print d['Foo']"
   ]
  },
  {
   "cell_type": "code",
   "execution_count": 15,
   "metadata": {
    "collapsed": true
   },
   "outputs": [],
   "source": [
    "n = None"
   ]
  },
  {
   "cell_type": "code",
   "execution_count": 17,
   "metadata": {
    "collapsed": false
   },
   "outputs": [
    {
     "data": {
      "text/plain": [
       "NoneType"
      ]
     },
     "execution_count": 17,
     "metadata": {},
     "output_type": "execute_result"
    }
   ],
   "source": [
    "type(n)"
   ]
  },
  {
   "cell_type": "markdown",
   "metadata": {},
   "source": [
    "## Advanced printing"
   ]
  },
  {
   "cell_type": "code",
   "execution_count": 19,
   "metadata": {
    "collapsed": false
   },
   "outputs": [
    {
     "name": "stdout",
     "output_type": "stream",
     "text": [
      "Our float value is 4.1. Our int value is 4\n"
     ]
    }
   ],
   "source": [
    "print \"Our float value is %s. Our int value is %s\" % (f, i)"
   ]
  },
  {
   "cell_type": "markdown",
   "metadata": {},
   "source": [
    "## Conditional statements in Python"
   ]
  },
  {
   "cell_type": "code",
   "execution_count": 20,
   "metadata": {
    "collapsed": false
   },
   "outputs": [
    {
     "name": "stdout",
     "output_type": "stream",
     "text": [
      "is and f are both greater than 4\n"
     ]
    }
   ],
   "source": [
    "if i == 1 and f > 4:\n",
    "    print \"The value of i is 1 and the f is greater than 4\"\n",
    "elif i > 4 or f > 4:\n",
    "    print \"is and f are both greater than 4\"\n",
    "else:\n",
    "    print \"Both i and f are less than are equal to 4\""
   ]
  },
  {
   "cell_type": "markdown",
   "metadata": {},
   "source": [
    "## Conditional loops"
   ]
  },
  {
   "cell_type": "code",
   "execution_count": 21,
   "metadata": {
    "collapsed": false
   },
   "outputs": [
    {
     "name": "stdout",
     "output_type": "stream",
     "text": [
      "[3, 1, 2]\n"
     ]
    }
   ],
   "source": [
    "print l"
   ]
  },
  {
   "cell_type": "code",
   "execution_count": 22,
   "metadata": {
    "collapsed": false
   },
   "outputs": [
    {
     "name": "stdout",
     "output_type": "stream",
     "text": [
      "3\n",
      "1\n",
      "2\n"
     ]
    }
   ],
   "source": [
    "for element in l:\n",
    "    print element"
   ]
  },
  {
   "cell_type": "code",
   "execution_count": 25,
   "metadata": {
    "collapsed": false
   },
   "outputs": [
    {
     "name": "stdout",
     "output_type": "stream",
     "text": [
      "6\n",
      "7\n",
      "8\n",
      "9\n"
     ]
    }
   ],
   "source": [
    "counter = 6\n",
    "while counter < 10:\n",
    "    print counter\n",
    "    counter += 1"
   ]
  },
  {
   "cell_type": "markdown",
   "metadata": {},
   "source": [
    "# Creating functions in Python"
   ]
  },
  {
   "cell_type": "code",
   "execution_count": 26,
   "metadata": {
    "collapsed": true
   },
   "outputs": [],
   "source": [
    "def add2(x):\n",
    "    y = x + 2\n",
    "    return y"
   ]
  },
  {
   "cell_type": "code",
   "execution_count": 27,
   "metadata": {
    "collapsed": true
   },
   "outputs": [],
   "source": [
    "i = 5"
   ]
  },
  {
   "cell_type": "code",
   "execution_count": 28,
   "metadata": {
    "collapsed": false
   },
   "outputs": [
    {
     "data": {
      "text/plain": [
       "7"
      ]
     },
     "execution_count": 28,
     "metadata": {},
     "output_type": "execute_result"
    }
   ],
   "source": [
    "add2(i)"
   ]
  },
  {
   "cell_type": "code",
   "execution_count": 29,
   "metadata": {
    "collapsed": true
   },
   "outputs": [],
   "source": [
    "square = lambda x: x * x"
   ]
  },
  {
   "cell_type": "code",
   "execution_count": 30,
   "metadata": {
    "collapsed": false
   },
   "outputs": [
    {
     "data": {
      "text/plain": [
       "9"
      ]
     },
     "execution_count": 30,
     "metadata": {},
     "output_type": "execute_result"
    }
   ],
   "source": [
    "square(3)"
   ]
  },
  {
   "cell_type": "code",
   "execution_count": 22,
   "metadata": {
    "collapsed": false
   },
   "outputs": [
    {
     "data": {
      "application/javascript": [
       "/* Put everything inside the global mpl namespace */\n",
       "window.mpl = {};\n",
       "\n",
       "mpl.get_websocket_type = function() {\n",
       "    if (typeof(WebSocket) !== 'undefined') {\n",
       "        return WebSocket;\n",
       "    } else if (typeof(MozWebSocket) !== 'undefined') {\n",
       "        return MozWebSocket;\n",
       "    } else {\n",
       "        alert('Your browser does not have WebSocket support.' +\n",
       "              'Please try Chrome, Safari or Firefox ≥ 6. ' +\n",
       "              'Firefox 4 and 5 are also supported but you ' +\n",
       "              'have to enable WebSockets in about:config.');\n",
       "    };\n",
       "}\n",
       "\n",
       "mpl.figure = function(figure_id, websocket, ondownload, parent_element) {\n",
       "    this.id = figure_id;\n",
       "\n",
       "    this.ws = websocket;\n",
       "\n",
       "    this.supports_binary = (this.ws.binaryType != undefined);\n",
       "\n",
       "    if (!this.supports_binary) {\n",
       "        var warnings = document.getElementById(\"mpl-warnings\");\n",
       "        if (warnings) {\n",
       "            warnings.style.display = 'block';\n",
       "            warnings.textContent = (\n",
       "                \"This browser does not support binary websocket messages. \" +\n",
       "                    \"Performance may be slow.\");\n",
       "        }\n",
       "    }\n",
       "\n",
       "    this.imageObj = new Image();\n",
       "\n",
       "    this.context = undefined;\n",
       "    this.message = undefined;\n",
       "    this.canvas = undefined;\n",
       "    this.rubberband_canvas = undefined;\n",
       "    this.rubberband_context = undefined;\n",
       "    this.format_dropdown = undefined;\n",
       "\n",
       "    this.image_mode = 'full';\n",
       "\n",
       "    this.root = $('<div/>');\n",
       "    this._root_extra_style(this.root)\n",
       "    this.root.attr('style', 'display: inline-block');\n",
       "\n",
       "    $(parent_element).append(this.root);\n",
       "\n",
       "    this._init_header(this);\n",
       "    this._init_canvas(this);\n",
       "    this._init_toolbar(this);\n",
       "\n",
       "    var fig = this;\n",
       "\n",
       "    this.waiting = false;\n",
       "\n",
       "    this.ws.onopen =  function () {\n",
       "            fig.send_message(\"supports_binary\", {value: fig.supports_binary});\n",
       "            fig.send_message(\"send_image_mode\", {});\n",
       "            fig.send_message(\"refresh\", {});\n",
       "        }\n",
       "\n",
       "    this.imageObj.onload = function() {\n",
       "            if (fig.image_mode == 'full') {\n",
       "                // Full images could contain transparency (where diff images\n",
       "                // almost always do), so we need to clear the canvas so that\n",
       "                // there is no ghosting.\n",
       "                fig.context.clearRect(0, 0, fig.canvas.width, fig.canvas.height);\n",
       "            }\n",
       "            fig.context.drawImage(fig.imageObj, 0, 0);\n",
       "        };\n",
       "\n",
       "    this.imageObj.onunload = function() {\n",
       "        this.ws.close();\n",
       "    }\n",
       "\n",
       "    this.ws.onmessage = this._make_on_message_function(this);\n",
       "\n",
       "    this.ondownload = ondownload;\n",
       "}\n",
       "\n",
       "mpl.figure.prototype._init_header = function() {\n",
       "    var titlebar = $(\n",
       "        '<div class=\"ui-dialog-titlebar ui-widget-header ui-corner-all ' +\n",
       "        'ui-helper-clearfix\"/>');\n",
       "    var titletext = $(\n",
       "        '<div class=\"ui-dialog-title\" style=\"width: 100%; ' +\n",
       "        'text-align: center; padding: 3px;\"/>');\n",
       "    titlebar.append(titletext)\n",
       "    this.root.append(titlebar);\n",
       "    this.header = titletext[0];\n",
       "}\n",
       "\n",
       "\n",
       "\n",
       "mpl.figure.prototype._canvas_extra_style = function(canvas_div) {\n",
       "\n",
       "}\n",
       "\n",
       "\n",
       "mpl.figure.prototype._root_extra_style = function(canvas_div) {\n",
       "\n",
       "}\n",
       "\n",
       "mpl.figure.prototype._init_canvas = function() {\n",
       "    var fig = this;\n",
       "\n",
       "    var canvas_div = $('<div/>');\n",
       "\n",
       "    canvas_div.attr('style', 'position: relative; clear: both; outline: 0');\n",
       "\n",
       "    function canvas_keyboard_event(event) {\n",
       "        return fig.key_event(event, event['data']);\n",
       "    }\n",
       "\n",
       "    canvas_div.keydown('key_press', canvas_keyboard_event);\n",
       "    canvas_div.keyup('key_release', canvas_keyboard_event);\n",
       "    this.canvas_div = canvas_div\n",
       "    this._canvas_extra_style(canvas_div)\n",
       "    this.root.append(canvas_div);\n",
       "\n",
       "    var canvas = $('<canvas/>');\n",
       "    canvas.addClass('mpl-canvas');\n",
       "    canvas.attr('style', \"left: 0; top: 0; z-index: 0; outline: 0\")\n",
       "\n",
       "    this.canvas = canvas[0];\n",
       "    this.context = canvas[0].getContext(\"2d\");\n",
       "\n",
       "    var rubberband = $('<canvas/>');\n",
       "    rubberband.attr('style', \"position: absolute; left: 0; top: 0; z-index: 1;\")\n",
       "\n",
       "    var pass_mouse_events = true;\n",
       "\n",
       "    canvas_div.resizable({\n",
       "        start: function(event, ui) {\n",
       "            pass_mouse_events = false;\n",
       "        },\n",
       "        resize: function(event, ui) {\n",
       "            fig.request_resize(ui.size.width, ui.size.height);\n",
       "        },\n",
       "        stop: function(event, ui) {\n",
       "            pass_mouse_events = true;\n",
       "            fig.request_resize(ui.size.width, ui.size.height);\n",
       "        },\n",
       "    });\n",
       "\n",
       "    function mouse_event_fn(event) {\n",
       "        if (pass_mouse_events)\n",
       "            return fig.mouse_event(event, event['data']);\n",
       "    }\n",
       "\n",
       "    rubberband.mousedown('button_press', mouse_event_fn);\n",
       "    rubberband.mouseup('button_release', mouse_event_fn);\n",
       "    // Throttle sequential mouse events to 1 every 20ms.\n",
       "    rubberband.mousemove('motion_notify', mouse_event_fn);\n",
       "\n",
       "    rubberband.mouseenter('figure_enter', mouse_event_fn);\n",
       "    rubberband.mouseleave('figure_leave', mouse_event_fn);\n",
       "\n",
       "    canvas_div.on(\"wheel\", function (event) {\n",
       "        event = event.originalEvent;\n",
       "        event['data'] = 'scroll'\n",
       "        if (event.deltaY < 0) {\n",
       "            event.step = 1;\n",
       "        } else {\n",
       "            event.step = -1;\n",
       "        }\n",
       "        mouse_event_fn(event);\n",
       "    });\n",
       "\n",
       "    canvas_div.append(canvas);\n",
       "    canvas_div.append(rubberband);\n",
       "\n",
       "    this.rubberband = rubberband;\n",
       "    this.rubberband_canvas = rubberband[0];\n",
       "    this.rubberband_context = rubberband[0].getContext(\"2d\");\n",
       "    this.rubberband_context.strokeStyle = \"#000000\";\n",
       "\n",
       "    this._resize_canvas = function(width, height) {\n",
       "        // Keep the size of the canvas, canvas container, and rubber band\n",
       "        // canvas in synch.\n",
       "        canvas_div.css('width', width)\n",
       "        canvas_div.css('height', height)\n",
       "\n",
       "        canvas.attr('width', width);\n",
       "        canvas.attr('height', height);\n",
       "\n",
       "        rubberband.attr('width', width);\n",
       "        rubberband.attr('height', height);\n",
       "    }\n",
       "\n",
       "    // Set the figure to an initial 600x600px, this will subsequently be updated\n",
       "    // upon first draw.\n",
       "    this._resize_canvas(600, 600);\n",
       "\n",
       "    // Disable right mouse context menu.\n",
       "    $(this.rubberband_canvas).bind(\"contextmenu\",function(e){\n",
       "        return false;\n",
       "    });\n",
       "\n",
       "    function set_focus () {\n",
       "        canvas.focus();\n",
       "        canvas_div.focus();\n",
       "    }\n",
       "\n",
       "    window.setTimeout(set_focus, 100);\n",
       "}\n",
       "\n",
       "mpl.figure.prototype._init_toolbar = function() {\n",
       "    var fig = this;\n",
       "\n",
       "    var nav_element = $('<div/>')\n",
       "    nav_element.attr('style', 'width: 100%');\n",
       "    this.root.append(nav_element);\n",
       "\n",
       "    // Define a callback function for later on.\n",
       "    function toolbar_event(event) {\n",
       "        return fig.toolbar_button_onclick(event['data']);\n",
       "    }\n",
       "    function toolbar_mouse_event(event) {\n",
       "        return fig.toolbar_button_onmouseover(event['data']);\n",
       "    }\n",
       "\n",
       "    for(var toolbar_ind in mpl.toolbar_items) {\n",
       "        var name = mpl.toolbar_items[toolbar_ind][0];\n",
       "        var tooltip = mpl.toolbar_items[toolbar_ind][1];\n",
       "        var image = mpl.toolbar_items[toolbar_ind][2];\n",
       "        var method_name = mpl.toolbar_items[toolbar_ind][3];\n",
       "\n",
       "        if (!name) {\n",
       "            // put a spacer in here.\n",
       "            continue;\n",
       "        }\n",
       "        var button = $('<button/>');\n",
       "        button.addClass('ui-button ui-widget ui-state-default ui-corner-all ' +\n",
       "                        'ui-button-icon-only');\n",
       "        button.attr('role', 'button');\n",
       "        button.attr('aria-disabled', 'false');\n",
       "        button.click(method_name, toolbar_event);\n",
       "        button.mouseover(tooltip, toolbar_mouse_event);\n",
       "\n",
       "        var icon_img = $('<span/>');\n",
       "        icon_img.addClass('ui-button-icon-primary ui-icon');\n",
       "        icon_img.addClass(image);\n",
       "        icon_img.addClass('ui-corner-all');\n",
       "\n",
       "        var tooltip_span = $('<span/>');\n",
       "        tooltip_span.addClass('ui-button-text');\n",
       "        tooltip_span.html(tooltip);\n",
       "\n",
       "        button.append(icon_img);\n",
       "        button.append(tooltip_span);\n",
       "\n",
       "        nav_element.append(button);\n",
       "    }\n",
       "\n",
       "    var fmt_picker_span = $('<span/>');\n",
       "\n",
       "    var fmt_picker = $('<select/>');\n",
       "    fmt_picker.addClass('mpl-toolbar-option ui-widget ui-widget-content');\n",
       "    fmt_picker_span.append(fmt_picker);\n",
       "    nav_element.append(fmt_picker_span);\n",
       "    this.format_dropdown = fmt_picker[0];\n",
       "\n",
       "    for (var ind in mpl.extensions) {\n",
       "        var fmt = mpl.extensions[ind];\n",
       "        var option = $(\n",
       "            '<option/>', {selected: fmt === mpl.default_extension}).html(fmt);\n",
       "        fmt_picker.append(option)\n",
       "    }\n",
       "\n",
       "    // Add hover states to the ui-buttons\n",
       "    $( \".ui-button\" ).hover(\n",
       "        function() { $(this).addClass(\"ui-state-hover\");},\n",
       "        function() { $(this).removeClass(\"ui-state-hover\");}\n",
       "    );\n",
       "\n",
       "    var status_bar = $('<span class=\"mpl-message\"/>');\n",
       "    nav_element.append(status_bar);\n",
       "    this.message = status_bar[0];\n",
       "}\n",
       "\n",
       "mpl.figure.prototype.request_resize = function(x_pixels, y_pixels) {\n",
       "    // Request matplotlib to resize the figure. Matplotlib will then trigger a resize in the client,\n",
       "    // which will in turn request a refresh of the image.\n",
       "    this.send_message('resize', {'width': x_pixels, 'height': y_pixels});\n",
       "}\n",
       "\n",
       "mpl.figure.prototype.send_message = function(type, properties) {\n",
       "    properties['type'] = type;\n",
       "    properties['figure_id'] = this.id;\n",
       "    this.ws.send(JSON.stringify(properties));\n",
       "}\n",
       "\n",
       "mpl.figure.prototype.send_draw_message = function() {\n",
       "    if (!this.waiting) {\n",
       "        this.waiting = true;\n",
       "        this.ws.send(JSON.stringify({type: \"draw\", figure_id: this.id}));\n",
       "    }\n",
       "}\n",
       "\n",
       "\n",
       "mpl.figure.prototype.handle_save = function(fig, msg) {\n",
       "    var format_dropdown = fig.format_dropdown;\n",
       "    var format = format_dropdown.options[format_dropdown.selectedIndex].value;\n",
       "    fig.ondownload(fig, format);\n",
       "}\n",
       "\n",
       "\n",
       "mpl.figure.prototype.handle_resize = function(fig, msg) {\n",
       "    var size = msg['size'];\n",
       "    if (size[0] != fig.canvas.width || size[1] != fig.canvas.height) {\n",
       "        fig._resize_canvas(size[0], size[1]);\n",
       "        fig.send_message(\"refresh\", {});\n",
       "    };\n",
       "}\n",
       "\n",
       "mpl.figure.prototype.handle_rubberband = function(fig, msg) {\n",
       "    var x0 = msg['x0'];\n",
       "    var y0 = fig.canvas.height - msg['y0'];\n",
       "    var x1 = msg['x1'];\n",
       "    var y1 = fig.canvas.height - msg['y1'];\n",
       "    x0 = Math.floor(x0) + 0.5;\n",
       "    y0 = Math.floor(y0) + 0.5;\n",
       "    x1 = Math.floor(x1) + 0.5;\n",
       "    y1 = Math.floor(y1) + 0.5;\n",
       "    var min_x = Math.min(x0, x1);\n",
       "    var min_y = Math.min(y0, y1);\n",
       "    var width = Math.abs(x1 - x0);\n",
       "    var height = Math.abs(y1 - y0);\n",
       "\n",
       "    fig.rubberband_context.clearRect(\n",
       "        0, 0, fig.canvas.width, fig.canvas.height);\n",
       "\n",
       "    fig.rubberband_context.strokeRect(min_x, min_y, width, height);\n",
       "}\n",
       "\n",
       "mpl.figure.prototype.handle_figure_label = function(fig, msg) {\n",
       "    // Updates the figure title.\n",
       "    fig.header.textContent = msg['label'];\n",
       "}\n",
       "\n",
       "mpl.figure.prototype.handle_cursor = function(fig, msg) {\n",
       "    var cursor = msg['cursor'];\n",
       "    switch(cursor)\n",
       "    {\n",
       "    case 0:\n",
       "        cursor = 'pointer';\n",
       "        break;\n",
       "    case 1:\n",
       "        cursor = 'default';\n",
       "        break;\n",
       "    case 2:\n",
       "        cursor = 'crosshair';\n",
       "        break;\n",
       "    case 3:\n",
       "        cursor = 'move';\n",
       "        break;\n",
       "    }\n",
       "    fig.rubberband_canvas.style.cursor = cursor;\n",
       "}\n",
       "\n",
       "mpl.figure.prototype.handle_message = function(fig, msg) {\n",
       "    fig.message.textContent = msg['message'];\n",
       "}\n",
       "\n",
       "mpl.figure.prototype.handle_draw = function(fig, msg) {\n",
       "    // Request the server to send over a new figure.\n",
       "    fig.send_draw_message();\n",
       "}\n",
       "\n",
       "mpl.figure.prototype.handle_image_mode = function(fig, msg) {\n",
       "    fig.image_mode = msg['mode'];\n",
       "}\n",
       "\n",
       "mpl.figure.prototype.updated_canvas_event = function() {\n",
       "    // Called whenever the canvas gets updated.\n",
       "    this.send_message(\"ack\", {});\n",
       "}\n",
       "\n",
       "// A function to construct a web socket function for onmessage handling.\n",
       "// Called in the figure constructor.\n",
       "mpl.figure.prototype._make_on_message_function = function(fig) {\n",
       "    return function socket_on_message(evt) {\n",
       "        if (evt.data instanceof Blob) {\n",
       "            /* FIXME: We get \"Resource interpreted as Image but\n",
       "             * transferred with MIME type text/plain:\" errors on\n",
       "             * Chrome.  But how to set the MIME type?  It doesn't seem\n",
       "             * to be part of the websocket stream */\n",
       "            evt.data.type = \"image/png\";\n",
       "\n",
       "            /* Free the memory for the previous frames */\n",
       "            if (fig.imageObj.src) {\n",
       "                (window.URL || window.webkitURL).revokeObjectURL(\n",
       "                    fig.imageObj.src);\n",
       "            }\n",
       "\n",
       "            fig.imageObj.src = (window.URL || window.webkitURL).createObjectURL(\n",
       "                evt.data);\n",
       "            fig.updated_canvas_event();\n",
       "            fig.waiting = false;\n",
       "            return;\n",
       "        }\n",
       "        else if (typeof evt.data === 'string' && evt.data.slice(0, 21) == \"data:image/png;base64\") {\n",
       "            fig.imageObj.src = evt.data;\n",
       "            fig.updated_canvas_event();\n",
       "            fig.waiting = false;\n",
       "            return;\n",
       "        }\n",
       "\n",
       "        var msg = JSON.parse(evt.data);\n",
       "        var msg_type = msg['type'];\n",
       "\n",
       "        // Call the  \"handle_{type}\" callback, which takes\n",
       "        // the figure and JSON message as its only arguments.\n",
       "        try {\n",
       "            var callback = fig[\"handle_\" + msg_type];\n",
       "        } catch (e) {\n",
       "            console.log(\"No handler for the '\" + msg_type + \"' message type: \", msg);\n",
       "            return;\n",
       "        }\n",
       "\n",
       "        if (callback) {\n",
       "            try {\n",
       "                // console.log(\"Handling '\" + msg_type + \"' message: \", msg);\n",
       "                callback(fig, msg);\n",
       "            } catch (e) {\n",
       "                console.log(\"Exception inside the 'handler_\" + msg_type + \"' callback:\", e, e.stack, msg);\n",
       "            }\n",
       "        }\n",
       "    };\n",
       "}\n",
       "\n",
       "// from http://stackoverflow.com/questions/1114465/getting-mouse-location-in-canvas\n",
       "mpl.findpos = function(e) {\n",
       "    //this section is from http://www.quirksmode.org/js/events_properties.html\n",
       "    var targ;\n",
       "    if (!e)\n",
       "        e = window.event;\n",
       "    if (e.target)\n",
       "        targ = e.target;\n",
       "    else if (e.srcElement)\n",
       "        targ = e.srcElement;\n",
       "    if (targ.nodeType == 3) // defeat Safari bug\n",
       "        targ = targ.parentNode;\n",
       "\n",
       "    // jQuery normalizes the pageX and pageY\n",
       "    // pageX,Y are the mouse positions relative to the document\n",
       "    // offset() returns the position of the element relative to the document\n",
       "    var x = e.pageX - $(targ).offset().left;\n",
       "    var y = e.pageY - $(targ).offset().top;\n",
       "\n",
       "    return {\"x\": x, \"y\": y};\n",
       "};\n",
       "\n",
       "/*\n",
       " * return a copy of an object with only non-object keys\n",
       " * we need this to avoid circular references\n",
       " * http://stackoverflow.com/a/24161582/3208463\n",
       " */\n",
       "function simpleKeys (original) {\n",
       "  return Object.keys(original).reduce(function (obj, key) {\n",
       "    if (typeof original[key] !== 'object')\n",
       "        obj[key] = original[key]\n",
       "    return obj;\n",
       "  }, {});\n",
       "}\n",
       "\n",
       "mpl.figure.prototype.mouse_event = function(event, name) {\n",
       "    var canvas_pos = mpl.findpos(event)\n",
       "\n",
       "    if (name === 'button_press')\n",
       "    {\n",
       "        this.canvas.focus();\n",
       "        this.canvas_div.focus();\n",
       "    }\n",
       "\n",
       "    var x = canvas_pos.x;\n",
       "    var y = canvas_pos.y;\n",
       "\n",
       "    this.send_message(name, {x: x, y: y, button: event.button,\n",
       "                             step: event.step,\n",
       "                             guiEvent: simpleKeys(event)});\n",
       "\n",
       "    /* This prevents the web browser from automatically changing to\n",
       "     * the text insertion cursor when the button is pressed.  We want\n",
       "     * to control all of the cursor setting manually through the\n",
       "     * 'cursor' event from matplotlib */\n",
       "    event.preventDefault();\n",
       "    return false;\n",
       "}\n",
       "\n",
       "mpl.figure.prototype._key_event_extra = function(event, name) {\n",
       "    // Handle any extra behaviour associated with a key event\n",
       "}\n",
       "\n",
       "mpl.figure.prototype.key_event = function(event, name) {\n",
       "\n",
       "    // Prevent repeat events\n",
       "    if (name == 'key_press')\n",
       "    {\n",
       "        if (event.which === this._key)\n",
       "            return;\n",
       "        else\n",
       "            this._key = event.which;\n",
       "    }\n",
       "    if (name == 'key_release')\n",
       "        this._key = null;\n",
       "\n",
       "    var value = '';\n",
       "    if (event.ctrlKey && event.which != 17)\n",
       "        value += \"ctrl+\";\n",
       "    if (event.altKey && event.which != 18)\n",
       "        value += \"alt+\";\n",
       "    if (event.shiftKey && event.which != 16)\n",
       "        value += \"shift+\";\n",
       "\n",
       "    value += 'k';\n",
       "    value += event.which.toString();\n",
       "\n",
       "    this._key_event_extra(event, name);\n",
       "\n",
       "    this.send_message(name, {key: value,\n",
       "                             guiEvent: simpleKeys(event)});\n",
       "    return false;\n",
       "}\n",
       "\n",
       "mpl.figure.prototype.toolbar_button_onclick = function(name) {\n",
       "    if (name == 'download') {\n",
       "        this.handle_save(this, null);\n",
       "    } else {\n",
       "        this.send_message(\"toolbar_button\", {name: name});\n",
       "    }\n",
       "};\n",
       "\n",
       "mpl.figure.prototype.toolbar_button_onmouseover = function(tooltip) {\n",
       "    this.message.textContent = tooltip;\n",
       "};\n",
       "mpl.toolbar_items = [[\"Home\", \"Reset original view\", \"fa fa-home icon-home\", \"home\"], [\"Back\", \"Back to  previous view\", \"fa fa-arrow-left icon-arrow-left\", \"back\"], [\"Forward\", \"Forward to next view\", \"fa fa-arrow-right icon-arrow-right\", \"forward\"], [\"\", \"\", \"\", \"\"], [\"Pan\", \"Pan axes with left mouse, zoom with right\", \"fa fa-arrows icon-move\", \"pan\"], [\"Zoom\", \"Zoom to rectangle\", \"fa fa-square-o icon-check-empty\", \"zoom\"], [\"\", \"\", \"\", \"\"], [\"Download\", \"Download plot\", \"fa fa-floppy-o icon-save\", \"download\"]];\n",
       "\n",
       "mpl.extensions = [\"eps\", \"jpeg\", \"pdf\", \"png\", \"ps\", \"raw\", \"svg\", \"tif\"];\n",
       "\n",
       "mpl.default_extension = \"png\";var comm_websocket_adapter = function(comm) {\n",
       "    // Create a \"websocket\"-like object which calls the given IPython comm\n",
       "    // object with the appropriate methods. Currently this is a non binary\n",
       "    // socket, so there is still some room for performance tuning.\n",
       "    var ws = {};\n",
       "\n",
       "    ws.close = function() {\n",
       "        comm.close()\n",
       "    };\n",
       "    ws.send = function(m) {\n",
       "        //console.log('sending', m);\n",
       "        comm.send(m);\n",
       "    };\n",
       "    // Register the callback with on_msg.\n",
       "    comm.on_msg(function(msg) {\n",
       "        //console.log('receiving', msg['content']['data'], msg);\n",
       "        // Pass the mpl event to the overriden (by mpl) onmessage function.\n",
       "        ws.onmessage(msg['content']['data'])\n",
       "    });\n",
       "    return ws;\n",
       "}\n",
       "\n",
       "mpl.mpl_figure_comm = function(comm, msg) {\n",
       "    // This is the function which gets called when the mpl process\n",
       "    // starts-up an IPython Comm through the \"matplotlib\" channel.\n",
       "\n",
       "    var id = msg.content.data.id;\n",
       "    // Get hold of the div created by the display call when the Comm\n",
       "    // socket was opened in Python.\n",
       "    var element = $(\"#\" + id);\n",
       "    var ws_proxy = comm_websocket_adapter(comm)\n",
       "\n",
       "    function ondownload(figure, format) {\n",
       "        window.open(figure.imageObj.src);\n",
       "    }\n",
       "\n",
       "    var fig = new mpl.figure(id, ws_proxy,\n",
       "                           ondownload,\n",
       "                           element.get(0));\n",
       "\n",
       "    // Call onopen now - mpl needs it, as it is assuming we've passed it a real\n",
       "    // web socket which is closed, not our websocket->open comm proxy.\n",
       "    ws_proxy.onopen();\n",
       "\n",
       "    fig.parent_element = element.get(0);\n",
       "    fig.cell_info = mpl.find_output_cell(\"<div id='\" + id + \"'></div>\");\n",
       "    if (!fig.cell_info) {\n",
       "        console.error(\"Failed to find cell for figure\", id, fig);\n",
       "        return;\n",
       "    }\n",
       "\n",
       "    var output_index = fig.cell_info[2]\n",
       "    var cell = fig.cell_info[0];\n",
       "\n",
       "};\n",
       "\n",
       "mpl.figure.prototype.handle_close = function(fig, msg) {\n",
       "    fig.root.unbind('remove')\n",
       "\n",
       "    // Update the output cell to use the data from the current canvas.\n",
       "    fig.push_to_output();\n",
       "    var dataURL = fig.canvas.toDataURL();\n",
       "    // Re-enable the keyboard manager in IPython - without this line, in FF,\n",
       "    // the notebook keyboard shortcuts fail.\n",
       "    IPython.keyboard_manager.enable()\n",
       "    $(fig.parent_element).html('<img src=\"' + dataURL + '\">');\n",
       "    fig.close_ws(fig, msg);\n",
       "}\n",
       "\n",
       "mpl.figure.prototype.close_ws = function(fig, msg){\n",
       "    fig.send_message('closing', msg);\n",
       "    // fig.ws.close()\n",
       "}\n",
       "\n",
       "mpl.figure.prototype.push_to_output = function(remove_interactive) {\n",
       "    // Turn the data on the canvas into data in the output cell.\n",
       "    var dataURL = this.canvas.toDataURL();\n",
       "    this.cell_info[1]['text/html'] = '<img src=\"' + dataURL + '\">';\n",
       "}\n",
       "\n",
       "mpl.figure.prototype.updated_canvas_event = function() {\n",
       "    // Tell IPython that the notebook contents must change.\n",
       "    IPython.notebook.set_dirty(true);\n",
       "    this.send_message(\"ack\", {});\n",
       "    var fig = this;\n",
       "    // Wait a second, then push the new image to the DOM so\n",
       "    // that it is saved nicely (might be nice to debounce this).\n",
       "    setTimeout(function () { fig.push_to_output() }, 1000);\n",
       "}\n",
       "\n",
       "mpl.figure.prototype._init_toolbar = function() {\n",
       "    var fig = this;\n",
       "\n",
       "    var nav_element = $('<div/>')\n",
       "    nav_element.attr('style', 'width: 100%');\n",
       "    this.root.append(nav_element);\n",
       "\n",
       "    // Define a callback function for later on.\n",
       "    function toolbar_event(event) {\n",
       "        return fig.toolbar_button_onclick(event['data']);\n",
       "    }\n",
       "    function toolbar_mouse_event(event) {\n",
       "        return fig.toolbar_button_onmouseover(event['data']);\n",
       "    }\n",
       "\n",
       "    for(var toolbar_ind in mpl.toolbar_items){\n",
       "        var name = mpl.toolbar_items[toolbar_ind][0];\n",
       "        var tooltip = mpl.toolbar_items[toolbar_ind][1];\n",
       "        var image = mpl.toolbar_items[toolbar_ind][2];\n",
       "        var method_name = mpl.toolbar_items[toolbar_ind][3];\n",
       "\n",
       "        if (!name) { continue; };\n",
       "\n",
       "        var button = $('<button class=\"btn btn-default\" href=\"#\" title=\"' + name + '\"><i class=\"fa ' + image + ' fa-lg\"></i></button>');\n",
       "        button.click(method_name, toolbar_event);\n",
       "        button.mouseover(tooltip, toolbar_mouse_event);\n",
       "        nav_element.append(button);\n",
       "    }\n",
       "\n",
       "    // Add the status bar.\n",
       "    var status_bar = $('<span class=\"mpl-message\" style=\"text-align:right; float: right;\"/>');\n",
       "    nav_element.append(status_bar);\n",
       "    this.message = status_bar[0];\n",
       "\n",
       "    // Add the close button to the window.\n",
       "    var buttongrp = $('<div class=\"btn-group inline pull-right\"></div>');\n",
       "    var button = $('<button class=\"btn btn-mini btn-primary\" href=\"#\" title=\"Stop Interaction\"><i class=\"fa fa-power-off icon-remove icon-large\"></i></button>');\n",
       "    button.click(function (evt) { fig.handle_close(fig, {}); } );\n",
       "    button.mouseover('Stop Interaction', toolbar_mouse_event);\n",
       "    buttongrp.append(button);\n",
       "    var titlebar = this.root.find($('.ui-dialog-titlebar'));\n",
       "    titlebar.prepend(buttongrp);\n",
       "}\n",
       "\n",
       "mpl.figure.prototype._root_extra_style = function(el){\n",
       "    var fig = this\n",
       "    el.on(\"remove\", function(){\n",
       "\tfig.close_ws(fig, {});\n",
       "    });\n",
       "}\n",
       "\n",
       "mpl.figure.prototype._canvas_extra_style = function(el){\n",
       "    // this is important to make the div 'focusable\n",
       "    el.attr('tabindex', 0)\n",
       "    // reach out to IPython and tell the keyboard manager to turn it's self\n",
       "    // off when our div gets focus\n",
       "\n",
       "    // location in version 3\n",
       "    if (IPython.notebook.keyboard_manager) {\n",
       "        IPython.notebook.keyboard_manager.register_events(el);\n",
       "    }\n",
       "    else {\n",
       "        // location in version 2\n",
       "        IPython.keyboard_manager.register_events(el);\n",
       "    }\n",
       "\n",
       "}\n",
       "\n",
       "mpl.figure.prototype._key_event_extra = function(event, name) {\n",
       "    var manager = IPython.notebook.keyboard_manager;\n",
       "    if (!manager)\n",
       "        manager = IPython.keyboard_manager;\n",
       "\n",
       "    // Check for shift+enter\n",
       "    if (event.shiftKey && event.which == 13) {\n",
       "        this.canvas_div.blur();\n",
       "        event.shiftKey = false;\n",
       "        // Send a \"J\" for go to next cell\n",
       "        event.which = 74;\n",
       "        event.keyCode = 74;\n",
       "        manager.command_mode();\n",
       "        manager.handle_keydown(event);\n",
       "    }\n",
       "}\n",
       "\n",
       "mpl.figure.prototype.handle_save = function(fig, msg) {\n",
       "    fig.ondownload(fig, null);\n",
       "}\n",
       "\n",
       "\n",
       "mpl.find_output_cell = function(html_output) {\n",
       "    // Return the cell and output element which can be found *uniquely* in the notebook.\n",
       "    // Note - this is a bit hacky, but it is done because the \"notebook_saving.Notebook\"\n",
       "    // IPython event is triggered only after the cells have been serialised, which for\n",
       "    // our purposes (turning an active figure into a static one), is too late.\n",
       "    var cells = IPython.notebook.get_cells();\n",
       "    var ncells = cells.length;\n",
       "    for (var i=0; i<ncells; i++) {\n",
       "        var cell = cells[i];\n",
       "        if (cell.cell_type === 'code'){\n",
       "            for (var j=0; j<cell.output_area.outputs.length; j++) {\n",
       "                var data = cell.output_area.outputs[j];\n",
       "                if (data.data) {\n",
       "                    // IPython >= 3 moved mimebundle to data attribute of output\n",
       "                    data = data.data;\n",
       "                }\n",
       "                if (data['text/html'] == html_output) {\n",
       "                    return [cell, data, j];\n",
       "                }\n",
       "            }\n",
       "        }\n",
       "    }\n",
       "}\n",
       "\n",
       "// Register the function which deals with the matplotlib target/channel.\n",
       "// The kernel may be null if the page has been refreshed.\n",
       "if (IPython.notebook.kernel != null) {\n",
       "    IPython.notebook.kernel.comm_manager.register_target('matplotlib', mpl.mpl_figure_comm);\n",
       "}\n"
      ],
      "text/plain": [
       "<IPython.core.display.Javascript object>"
      ]
     },
     "metadata": {},
     "output_type": "display_data"
    },
    {
     "data": {
      "text/html": [
       "<img src=\"data:image/png;base64,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\">"
      ],
      "text/plain": [
       "<IPython.core.display.HTML object>"
      ]
     },
     "metadata": {},
     "output_type": "display_data"
    }
   ],
   "source": [
    "%matplotlib notebook\n",
    "from numpy import *\n",
    "from matplotlib.pyplot import *\n",
    "x = linspace(0, 5, 200)\n",
    "y = 5 + 4*x + -2*x**2\n",
    "figure()\n",
    "plot(x, y)\n",
    "grid(True)"
   ]
  },
  {
   "cell_type": "code",
   "execution_count": 7,
   "metadata": {
    "collapsed": false,
    "scrolled": true
   },
   "outputs": [
    {
     "data": {
      "text/plain": [
       "[<matplotlib.lines.Line2D at 0x7f8c6d41c790>]"
      ]
     },
     "execution_count": 7,
     "metadata": {},
     "output_type": "execute_result"
    }
   ],
   "source": []
  },
  {
   "cell_type": "code",
   "execution_count": 5,
   "metadata": {
    "collapsed": true
   },
   "outputs": [],
   "source": []
  },
  {
   "cell_type": "code",
   "execution_count": null,
   "metadata": {
    "collapsed": true
   },
   "outputs": [],
   "source": []
  }
 ],
 "metadata": {
  "anaconda-cloud": {},
  "kernelspec": {
   "display_name": "Python [gl-env]",
   "language": "python",
   "name": "Python [gl-env]"
  },
  "language_info": {
   "codemirror_mode": {
    "name": "ipython",
    "version": 2
   },
   "file_extension": ".py",
   "mimetype": "text/x-python",
   "name": "python",
   "nbconvert_exporter": "python",
   "pygments_lexer": "ipython2",
   "version": "2.7.12"
  }
 },
 "nbformat": 4,
 "nbformat_minor": 0
}
